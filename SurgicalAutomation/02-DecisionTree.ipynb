{
 "cells": [
  {
   "cell_type": "markdown",
   "id": "a0f75003-14f1-4aaa-a9a6-53e96bd30473",
   "metadata": {},
   "source": [
    "# Decison Tree Model by Tensorflow Decision Forests"
   ]
  },
  {
   "cell_type": "markdown",
   "id": "498965e1-3210-4484-b5cd-dd72bc084139",
   "metadata": {},
   "source": [
    "## 1. Load data into python\n",
    "Change user id"
   ]
  },
  {
   "cell_type": "code",
   "execution_count": 1,
   "id": "6e11f4f7-1c48-4f6c-bd81-a8749dc1a2b8",
   "metadata": {},
   "outputs": [],
   "source": [
    "#Vega Setup\n",
    "import logging\n",
    "import pandas as pd\n",
    "import numpy as np\n",
    "from afterpay_gdp_interfaces import RedshiftHook\n",
    "\n",
    "import datetime\n",
    "import pytz\n",
    "CST = pytz.timezone('Asia/Shanghai')\n",
    "\n",
    "pd.set_option('display.max_rows', 500)\n",
    "pd.set_option('display.max_columns', 100)\n",
    "logger = logging.getLogger()\n",
    "logger.setLevel(logging.INFO)\n",
    "vega = RedshiftHook(cluster='vega', okta_username='songli@squareup.com') # for vega connection\n",
    "def vega_execute(query):\n",
    "    import datetime\n",
    "    \"\"\"\n",
    "        vega execute SQL wrapper to commit everytime\n",
    "    \"\"\"\n",
    "    t_start = datetime.datetime.now()\n",
    "    with vega.get_conn() as vega_conn:\n",
    "        with vega_conn.cursor() as cur:\n",
    "            cur.execute(query)\n",
    "        vega_conn.commit()\n",
    "        t_end = datetime.datetime.now()\n",
    "        logging.info(\"Vega Query Finished. Time used: {}\".format(str(t_end - t_start)))\n",
    "        # vega_conn.close()"
   ]
  },
  {
   "cell_type": "markdown",
   "id": "0fdf6ffe-f8e0-4bf0-b238-68bf9b474a94",
   "metadata": {},
   "source": [
    "apply some initial filtering when pulling sample data"
   ]
  },
  {
   "cell_type": "code",
   "execution_count": 2,
   "id": "75baa45b-a35a-402f-8110-75d3f52ba740",
   "metadata": {},
   "outputs": [],
   "source": [
    "q=\"\"\"\n",
    "select\n",
    "*\n",
    "from sandbox_analytics_au.feature_base_sl drv\n",
    "where\n",
    "    par_region='AU'\n",
    "    and lower(replace(in_flight_order_shipping_address_address_1,' ',''))!=lower(replace(consumer_address_1,' ',''))\n",
    "    and lower(replace(in_flight_order_shipping_address_city,' ',''))!=lower(replace(consumer_city,' ',''))\n",
    "    and in_flight_order_shipping_address_address_1!=''\n",
    "    and days_since_first_order_date>42\n",
    "    and ((TIMESTAMP 'epoch' + c_latest_login_2fa_success_timestamp::FLOAT *INTERVAL '1 second')>=cast(checkout_time as date)-30)\n",
    "    and (case when nvl(in_flight_order_amount,'0')='' then '0' else in_flight_order_amount end)::float>200\n",
    ";\"\"\""
   ]
  },
  {
   "cell_type": "code",
   "execution_count": 3,
   "id": "43852499-8fd8-40c4-ae5c-e3c3d68bfb7f",
   "metadata": {},
   "outputs": [
    {
     "name": "stdout",
     "output_type": "stream",
     "text": [
      "2023-04-26 13:26:55.924972+08:00\n",
      "CPU times: user 12.4 s, sys: 2.23 s, total: 14.7 s\n",
      "Wall time: 26.3 s\n"
     ]
    }
   ],
   "source": [
    "%%time\n",
    "print(datetime.datetime.now(CST))\n",
    "rule_perf=vega.get_pandas_df(q)"
   ]
  },
  {
   "cell_type": "code",
   "execution_count": 4,
   "id": "24ef5783-8822-4b3f-92ee-6549aefc418e",
   "metadata": {},
   "outputs": [
    {
     "name": "stderr",
     "output_type": "stream",
     "text": [
      "/opt/tljh/user/lib/python3.7/site-packages/pandas/core/arrays/datetimelike.py:1190: PerformanceWarning: Adding/subtracting object-dtype array to TimedeltaArray not vectorized\n",
      "  PerformanceWarning,\n"
     ]
    }
   ],
   "source": [
    "rule_perf['order_date']=pd.to_datetime(rule_perf['checkout_time']).dt.date\n",
    "import datetime\n",
    "rule_perf['order_week']=rule_perf['order_date']-rule_perf['order_date'].apply(lambda x: datetime.timedelta(pd.to_datetime(x).weekday()))   "
   ]
  },
  {
   "cell_type": "markdown",
   "id": "e82596c9-9b45-4683-9165-3d6a6e0dbde5",
   "metadata": {},
   "source": [
    "### check initial fraud rate by week"
   ]
  },
  {
   "cell_type": "code",
   "execution_count": 5,
   "id": "2d2c3fe7-d5a3-4052-91eb-a449bb686766",
   "metadata": {},
   "outputs": [
    {
     "data": {
      "text/html": [
       "<div>\n",
       "<style scoped>\n",
       "    .dataframe tbody tr th:only-of-type {\n",
       "        vertical-align: middle;\n",
       "    }\n",
       "\n",
       "    .dataframe tbody tr th {\n",
       "        vertical-align: top;\n",
       "    }\n",
       "\n",
       "    .dataframe thead th {\n",
       "        text-align: right;\n",
       "    }\n",
       "</style>\n",
       "<table border=\"1\" class=\"dataframe\">\n",
       "  <thead>\n",
       "    <tr style=\"text-align: right;\">\n",
       "      <th>loss_ind</th>\n",
       "      <th>0.0</th>\n",
       "      <th>1.0</th>\n",
       "    </tr>\n",
       "    <tr>\n",
       "      <th>order_week</th>\n",
       "      <th></th>\n",
       "      <th></th>\n",
       "    </tr>\n",
       "  </thead>\n",
       "  <tbody>\n",
       "    <tr>\n",
       "      <th>2023-02-20</th>\n",
       "      <td>7312.0</td>\n",
       "      <td>3.0</td>\n",
       "    </tr>\n",
       "    <tr>\n",
       "      <th>2023-02-27</th>\n",
       "      <td>18707.0</td>\n",
       "      <td>7.0</td>\n",
       "    </tr>\n",
       "    <tr>\n",
       "      <th>2023-03-06</th>\n",
       "      <td>18015.0</td>\n",
       "      <td>8.0</td>\n",
       "    </tr>\n",
       "    <tr>\n",
       "      <th>2023-03-13</th>\n",
       "      <td>21514.0</td>\n",
       "      <td>9.0</td>\n",
       "    </tr>\n",
       "    <tr>\n",
       "      <th>2023-03-20</th>\n",
       "      <td>19305.0</td>\n",
       "      <td>5.0</td>\n",
       "    </tr>\n",
       "    <tr>\n",
       "      <th>2023-03-27</th>\n",
       "      <td>19850.0</td>\n",
       "      <td>7.0</td>\n",
       "    </tr>\n",
       "    <tr>\n",
       "      <th>2023-04-03</th>\n",
       "      <td>19418.0</td>\n",
       "      <td>4.0</td>\n",
       "    </tr>\n",
       "    <tr>\n",
       "      <th>2023-04-10</th>\n",
       "      <td>21143.0</td>\n",
       "      <td>9.0</td>\n",
       "    </tr>\n",
       "    <tr>\n",
       "      <th>2023-04-17</th>\n",
       "      <td>20836.0</td>\n",
       "      <td>2.0</td>\n",
       "    </tr>\n",
       "    <tr>\n",
       "      <th>2023-04-24</th>\n",
       "      <td>2183.0</td>\n",
       "      <td>NaN</td>\n",
       "    </tr>\n",
       "  </tbody>\n",
       "</table>\n",
       "</div>"
      ],
      "text/plain": [
       "loss_ind        0.0  1.0\n",
       "order_week              \n",
       "2023-02-20   7312.0  3.0\n",
       "2023-02-27  18707.0  7.0\n",
       "2023-03-06  18015.0  8.0\n",
       "2023-03-13  21514.0  9.0\n",
       "2023-03-20  19305.0  5.0\n",
       "2023-03-27  19850.0  7.0\n",
       "2023-04-03  19418.0  4.0\n",
       "2023-04-10  21143.0  9.0\n",
       "2023-04-17  20836.0  2.0\n",
       "2023-04-24   2183.0  NaN"
      ]
     },
     "execution_count": 5,
     "metadata": {},
     "output_type": "execute_result"
    }
   ],
   "source": [
    "rule_perf.pivot_table(values='in_flight_order_amount',index='order_week', columns='loss_ind', aggfunc='count')"
   ]
  },
  {
   "cell_type": "markdown",
   "id": "5b50498f-f989-44db-b5e4-d9829decb527",
   "metadata": {},
   "source": [
    "## 2. Import related packages\n",
    "If you have not installed tensorflow use \n",
    "```shell\n",
    "!pip install --user tensorflow  \n",
    "!pip install --user tensorflow_decision_forests\n",
    "```"
   ]
  },
  {
   "cell_type": "code",
   "execution_count": 6,
   "id": "8e58e99f-051d-40f8-98dc-367bf0d4228d",
   "metadata": {},
   "outputs": [
    {
     "name": "stderr",
     "output_type": "stream",
     "text": [
      "WARNING:root:TF Parameter Server distributed training not available (this is expected for the pre-build release).\n"
     ]
    }
   ],
   "source": [
    "import tensorflow_decision_forests as tfdf\n",
    "import os\n",
    "import numpy as np\n",
    "import pandas as pd\n",
    "import tensorflow as tf\n",
    "import math"
   ]
  },
  {
   "cell_type": "markdown",
   "id": "ab9c4eb2-1c65-43a1-b860-0c85ec33f493",
   "metadata": {},
   "source": [
    "## 3. Preprocessing\n",
    "Apply some filtering to the sample data.  \n",
    "Apply feature exclusion list as some features should not be used (or you don't want to use) in the model."
   ]
  },
  {
   "cell_type": "code",
   "execution_count": 7,
   "id": "b0fc8dce-8302-4815-853e-0408a6da9da8",
   "metadata": {},
   "outputs": [
    {
     "name": "stdout",
     "output_type": "stream",
     "text": [
      "Label classes: [0.0, 1.0]\n"
     ]
    }
   ],
   "source": [
    "# Apply some filter criteria\n",
    "dataset_df = rule_perf[(pd.to_datetime(rule_perf['order_date'])>='2022-11-24')#&(pd.to_datetime(rule_perf['order_date'])<'2022-12-12')\\\n",
    "                       &(rule_perf['rule_ids']=='[\"Approved\"]')\n",
    "                       &~(rule_perf['control_group'].str.lower().str.contains('control'))\n",
    "                       \n",
    "                       & (rule_perf['days_since_first_order_date']>300)\n",
    "                      ].copy()\n",
    "# fill missing value\n",
    "dataset_df['loss_ind'].fillna(0,inplace=True)\n",
    "\n",
    "label = \"loss_ind\"\n",
    "\n",
    "classes = dataset_df[label].unique().tolist()\n",
    "print(f\"Label classes: {classes}\")\n",
    "\n",
    "#Exclude some features from being predictors \n",
    "dataset_df2=dataset_df[list(set(dataset_df.columns.to_list())-\n",
    "                           set(['checkout_time','checkout_time_f','ato_ind','sf_id', 'gwr_ind','par_process_date'\n",
    "                                ,'in_flight_order_shipping_address_hash','rule_ids','consumer_city'\n",
    "                                ,'gmv_local','gmv_aud','order_week', 'sf_ind','consumer_given_names'\n",
    "                                ,'c_latest_email_login_2fa_success_timestamp','session_user_agent'\n",
    "                                ,'merchant_id', 'merchant_id_f','consumer_id','consumer_email','order_date', 'order_week','consumer_id_f', 'in_flight_order_consumer_email', 'consumer_mobile'\n",
    "                                ,'in_flight_order_consumer_name','consumer_name','consumer_postcode','consumer_birth_date_epoch_millis','highest_delphi_score_last_12_hours'\n",
    "                               ]+dataset_df.columns[dataset_df.columns.str.contains('time')].to_list()\n",
    "                               +dataset_df.columns[(dataset_df.columns.str.contains('_address'))&~(dataset_df.columns.str.contains('geo'))].to_list()\n",
    "                              ))].copy()\n",
    "#Format conversion\n",
    "dataset_df2[dataset_df2.dtypes[dataset_df2.dtypes=='bool'].index]=\\\n",
    "    dataset_df2[dataset_df2.dtypes[dataset_df2.dtypes=='bool'].index].astype(str)"
   ]
  },
  {
   "cell_type": "markdown",
   "id": "4d9999f0-6e63-48ee-9a14-02a9d4b99acd",
   "metadata": {},
   "source": [
    "## 4. Train Test split\n",
    "Test ratio controls the test sample size."
   ]
  },
  {
   "cell_type": "code",
   "execution_count": 8,
   "id": "75bbff07-db5b-4e7e-bd9e-4ce182bd6031",
   "metadata": {},
   "outputs": [
    {
     "name": "stdout",
     "output_type": "stream",
     "text": [
      "160542 examples in training, 17792 examples for testing.\n"
     ]
    },
    {
     "name": "stderr",
     "output_type": "stream",
     "text": [
      "/home/jupyter-songli/.local/lib/python3.7/site-packages/tensorflow_decision_forests/keras/core.py:2036: FutureWarning: In a future version of pandas all arguments of DataFrame.drop except for the argument 'labels' will be keyword-only\n",
      "  features_dataframe = dataframe.drop(label, 1)\n"
     ]
    }
   ],
   "source": [
    "def split_dataset(dataset, test_ratio=0.1):\n",
    "    \"\"\"Splits a panda dataframe in two.\"\"\"\n",
    "    test_indices = np.random.rand(len(dataset)) < test_ratio\n",
    "    return dataset[~test_indices], dataset[test_indices]\n",
    "\n",
    "train_ds_pd, test_ds_pd = split_dataset(dataset_df2)\n",
    "print(\"{} examples in training, {} examples for testing.\".format(\n",
    "    len(train_ds_pd), len(test_ds_pd)))\n",
    "\n",
    "train_ds = tfdf.keras.pd_dataframe_to_tf_dataset(train_ds_pd, label=label)\n",
    "test_ds = tfdf.keras.pd_dataframe_to_tf_dataset(test_ds_pd, label=label)"
   ]
  },
  {
   "cell_type": "markdown",
   "id": "de9074e7-4fe1-4807-b618-17cb0ebf19b4",
   "metadata": {},
   "source": [
    "## 5. Build Model\n",
    "Some key parameters: \n",
    "- min_examples: controls the minumum size of the node. You need to balance between overfitting and fraud rate. \n",
    "- max_depth: depth of the tree"
   ]
  },
  {
   "cell_type": "code",
   "execution_count": 11,
   "id": "8e8ee583-899b-42da-9308-3eb8f12ec9ee",
   "metadata": {},
   "outputs": [
    {
     "name": "stdout",
     "output_type": "stream",
     "text": [
      "Warning:  The `num_threads` constructor argument is not set and the number of CPU is os.cpu_count()=128 > 32. Setting num_threads to 32. Set num_threads manually to use more than 32 cpus.\n",
      "Use /tmp/tmpv27v65lc as temporary training directory\n",
      "Starting reading the dataset\n",
      "161/161 [==============================] - ETA: 0s\n",
      "Dataset read in 0:00:07.972073\n",
      "Training model\n",
      "Model trained in 0:00:01.194876\n",
      "Warning:  Tracing the TF graph and reading the dataset took more than 50% of the time to effectively train the model (tracing+dataset reading: 0:00:07.972073, training: 0:00:01.194876). This might indicates that the dataset reading operation e.g. tf.data.Dataset is not well configured. In mose cases, this ratio should be <<10%.\n",
      "Compiling model\n"
     ]
    },
    {
     "name": "stderr",
     "output_type": "stream",
     "text": [
      "WARNING:absl:Registering feature \"in_flight_order_recipient_email\" not used by the model.\n",
      "WARNING:absl:Registering feature \"in_flight_order_recipient_message\" not used by the model.\n",
      "WARNING:absl:Registering feature \"in_flight_order_recipient_name\" not used by the model.\n",
      "WARNING:absl:Registering feature \"instore_consumer_postcode_match\" not used by the model.\n"
     ]
    },
    {
     "name": "stdout",
     "output_type": "stream",
     "text": [
      "161/161 [==============================] - 11s 62ms/step - val_loss: 0.0000e+00\n",
      "CPU times: user 14 s, sys: 481 ms, total: 14.5 s\n",
      "Wall time: 11.2 s\n"
     ]
    },
    {
     "data": {
      "text/plain": [
       "<keras.callbacks.History at 0x7f7ce00d6160>"
      ]
     },
     "execution_count": 11,
     "metadata": {},
     "output_type": "execute_result"
    }
   ],
   "source": [
    "%%time\n",
    "# build model\n",
    "model = tfdf.keras.RandomForestModel(min_examples=30,max_depth=5, num_trees=3)#,sampling_with_replacement=False,bootstrap_size_ratio=1.0, num_candidate_attributes=-1, num_trees=3)\n",
    "\n",
    "# train model\n",
    "model.fit(x=train_ds, validation_data=test_ds)"
   ]
  },
  {
   "cell_type": "code",
   "execution_count": null,
   "id": "af5b5e6e-a476-48a2-bfbe-4d32147a4e07",
   "metadata": {},
   "outputs": [],
   "source": [
    "model.summary()"
   ]
  },
  {
   "cell_type": "markdown",
   "id": "e311d7ba-442b-47d2-8c38-3c174455a12e",
   "metadata": {},
   "source": [
    "## 6. Visualize the tree "
   ]
  },
  {
   "cell_type": "code",
   "execution_count": 12,
   "id": "9dde91a7-5704-4e41-bf54-6f48a245c86b",
   "metadata": {
    "tags": []
   },
   "outputs": [
    {
     "data": {
      "text/html": [
       "\n",
       "        <iframe\n",
       "            width=\"2000\"\n",
       "            height=\"600\"\n",
       "            src=\"./plot.html\"\n",
       "            frameborder=\"0\"\n",
       "            allowfullscreen\n",
       "            \n",
       "        ></iframe>\n",
       "        "
      ],
      "text/plain": [
       "<IPython.lib.display.IFrame at 0x7f7ce00d6128>"
      ]
     },
     "execution_count": 12,
     "metadata": {},
     "output_type": "execute_result"
    }
   ],
   "source": [
    "with open(\"plot.html\", \"w\") as f:\n",
    "    f.write(tfdf.model_plotter.plot_model(model, tree_idx=0, max_depth=8))\n",
    "\n",
    "from IPython.display import IFrame\n",
    "IFrame(src='./plot.html', width=2000, height=600)"
   ]
  },
  {
   "cell_type": "code",
   "execution_count": 13,
   "id": "7256b71b-3a0b-480a-96c0-73d5830cb9e6",
   "metadata": {},
   "outputs": [
    {
     "data": {
      "text/html": [
       "\n",
       "        <iframe\n",
       "            width=\"2000\"\n",
       "            height=\"600\"\n",
       "            src=\"./plot.html\"\n",
       "            frameborder=\"0\"\n",
       "            allowfullscreen\n",
       "            \n",
       "        ></iframe>\n",
       "        "
      ],
      "text/plain": [
       "<IPython.lib.display.IFrame at 0x7f7cd47a3b38>"
      ]
     },
     "execution_count": 13,
     "metadata": {},
     "output_type": "execute_result"
    }
   ],
   "source": [
    "with open(\"plot.html\", \"w\") as f:\n",
    "    f.write(tfdf.model_plotter.plot_model(model, tree_idx=1, max_depth=8))\n",
    "\n",
    "from IPython.display import IFrame\n",
    "IFrame(src='./plot.html', width=2000, height=600)"
   ]
  },
  {
   "cell_type": "code",
   "execution_count": 14,
   "id": "d9713b4e-1a02-48a2-9969-a3f82130e5a5",
   "metadata": {},
   "outputs": [
    {
     "data": {
      "text/html": [
       "\n",
       "        <iframe\n",
       "            width=\"2000\"\n",
       "            height=\"600\"\n",
       "            src=\"./plot.html\"\n",
       "            frameborder=\"0\"\n",
       "            allowfullscreen\n",
       "            \n",
       "        ></iframe>\n",
       "        "
      ],
      "text/plain": [
       "<IPython.lib.display.IFrame at 0x7f7cd2b115c0>"
      ]
     },
     "execution_count": 14,
     "metadata": {},
     "output_type": "execute_result"
    }
   ],
   "source": [
    "with open(\"plot.html\", \"w\") as f:\n",
    "    f.write(tfdf.model_plotter.plot_model(model, tree_idx=2, max_depth=8))\n",
    "\n",
    "from IPython.display import IFrame\n",
    "IFrame(src='./plot.html', width=2000, height=600)"
   ]
  },
  {
   "cell_type": "code",
   "execution_count": 19,
   "id": "0677a7ac-d5a9-43ed-93e5-6f29fbacd3b0",
   "metadata": {},
   "outputs": [
    {
     "data": {
      "text/plain": [
       "Tree(NonLeafNode(condition=(sp_c_online_order_amount_h12_0 >= 324.30999755859375; miss=False), pos_child=NonLeafNode(condition=(sp_c_fraud_decline_attempt_h1_0 >= 0.5; miss=False), pos_child=LeafNode(value=ProbabilityValue([0.9491525423728814, 0.05084745762711865],n=59.0), idx=11), neg_child=NonLeafNode(condition=(model_online_cb_global_july_2022_score >= 120.59197998046875; miss=False), pos_child=LeafNode(value=ProbabilityValue([0.8787878787878788, 0.12121212121212122],n=33.0), idx=10), neg_child=NonLeafNode(condition=(bp_m_mcc_code in ['5732', '5691']; miss=False), pos_child=LeafNode(value=ProbabilityValue([0.9947089947089947, 0.005291005291005291],n=378.0), idx=9), neg_child=LeafNode(value=ProbabilityValue([1.0, 0.0],n=4051.0), idx=8), value=ProbabilityValue([0.9995484307970196, 0.0004515692029803567],n=4429.0)), value=ProbabilityValue([0.9986553115194979, 0.001344688480502017],n=4462.0)), value=ProbabilityValue([0.9980092899800929, 0.0019907100199071004],n=4521.0)), neg_child=NonLeafNode(condition=(in_flight_order_amount >= 1217.9749755859375; miss=False), pos_child=NonLeafNode(condition=(consumer_postcode_to_shipping_address_postcode_geo_distance_miles_v2 >= 706.8638916015625; miss=False), pos_child=NonLeafNode(condition=(bp_c_merch_side_email_age_days >= 181.0; miss=True), pos_child=LeafNode(value=ProbabilityValue([0.9924242424242424, 0.007575757575757576],n=264.0), idx=7), neg_child=LeafNode(value=ProbabilityValue([0.9210526315789473, 0.07894736842105263],n=38.0), idx=6), value=ProbabilityValue([0.9834437086092715, 0.016556291390728478],n=302.0)), neg_child=NonLeafNode(condition=(sp_c_online_order_amount_h168_0 >= 792.719970703125; miss=False), pos_child=LeafNode(value=ProbabilityValue([0.989247311827957, 0.010752688172043012],n=186.0), idx=5), neg_child=LeafNode(value=ProbabilityValue([0.9993828430364122, 0.0006171569635877391],n=4861.0), idx=4), value=ProbabilityValue([0.9990093124628492, 0.0009906875371507827],n=5047.0)), value=ProbabilityValue([0.998130491680688, 0.001869508319312021],n=5349.0)), neg_child=NonLeafNode(condition=(sp_c_order_cnt_same_merchant_as_current_h6_0 >= 1.5; miss=False), pos_child=NonLeafNode(condition=(model_online_ato_global_september_2022_score >= 1.7110514640808105; miss=True), pos_child=LeafNode(value=ProbabilityValue([1.0, 0.0],n=60.0), idx=3), neg_child=LeafNode(value=ProbabilityValue([0.9666666666666667, 0.03333333333333333],n=30.0), idx=2), value=ProbabilityValue([0.9888888888888889, 0.011111111111111112],n=90.0)), neg_child=NonLeafNode(condition=(model_online_ato_global_july_2022_score >= 3.276069164276123; miss=False), pos_child=LeafNode(value=ProbabilityValue([0.998574144486692, 0.0014258555133079848],n=2104.0), idx=1), neg_child=LeafNode(value=ProbabilityValue([0.9999796991412737, 2.0300858726324124e-05],n=147777.0), idx=0), value=ProbabilityValue([0.9999599682414716, 4.003175852843255e-05],n=149881.0)), value=ProbabilityValue([0.9999533243093665, 4.667569063352248e-05],n=149971.0)), value=ProbabilityValue([0.9998905485449395, 0.00010945145506052021],n=155320.0)), value=ProbabilityValue([0.9998373383549902, 0.00016266164500972842],n=159841.0)),label_classes={self.label_classes})"
      ]
     },
     "execution_count": 19,
     "metadata": {},
     "output_type": "execute_result"
    }
   ],
   "source": [
    "inspector=model.make_inspector()\n",
    "inspector.extract_tree(tree_idx=0)"
   ]
  },
  {
   "cell_type": "markdown",
   "id": "ae4e51b9-f488-4aa1-b717-c064973b7e37",
   "metadata": {},
   "source": [
    "### Selected desired(and reasonable) nodes and check performance!"
   ]
  },
  {
   "cell_type": "code",
   "execution_count": 18,
   "id": "55a71f77-1479-452f-9278-704e7145e2ff",
   "metadata": {},
   "outputs": [
    {
     "data": {
      "text/html": [
       "<div>\n",
       "<style scoped>\n",
       "    .dataframe tbody tr th:only-of-type {\n",
       "        vertical-align: middle;\n",
       "    }\n",
       "\n",
       "    .dataframe tbody tr th {\n",
       "        vertical-align: top;\n",
       "    }\n",
       "\n",
       "    .dataframe thead th {\n",
       "        text-align: right;\n",
       "    }\n",
       "</style>\n",
       "<table border=\"1\" class=\"dataframe\">\n",
       "  <thead>\n",
       "    <tr style=\"text-align: right;\">\n",
       "      <th>loss_ind</th>\n",
       "      <th>0.0</th>\n",
       "      <th>1.0</th>\n",
       "      <th>All</th>\n",
       "    </tr>\n",
       "    <tr>\n",
       "      <th>order_week</th>\n",
       "      <th></th>\n",
       "      <th></th>\n",
       "      <th></th>\n",
       "    </tr>\n",
       "  </thead>\n",
       "  <tbody>\n",
       "    <tr>\n",
       "      <th>2023-02-20</th>\n",
       "      <td>1.0</td>\n",
       "      <td>NaN</td>\n",
       "      <td>1</td>\n",
       "    </tr>\n",
       "    <tr>\n",
       "      <th>2023-02-27</th>\n",
       "      <td>15.0</td>\n",
       "      <td>NaN</td>\n",
       "      <td>15</td>\n",
       "    </tr>\n",
       "    <tr>\n",
       "      <th>2023-03-06</th>\n",
       "      <td>13.0</td>\n",
       "      <td>2.0</td>\n",
       "      <td>15</td>\n",
       "    </tr>\n",
       "    <tr>\n",
       "      <th>2023-03-13</th>\n",
       "      <td>24.0</td>\n",
       "      <td>NaN</td>\n",
       "      <td>24</td>\n",
       "    </tr>\n",
       "    <tr>\n",
       "      <th>2023-03-20</th>\n",
       "      <td>11.0</td>\n",
       "      <td>NaN</td>\n",
       "      <td>11</td>\n",
       "    </tr>\n",
       "    <tr>\n",
       "      <th>2023-03-27</th>\n",
       "      <td>13.0</td>\n",
       "      <td>1.0</td>\n",
       "      <td>14</td>\n",
       "    </tr>\n",
       "    <tr>\n",
       "      <th>2023-04-03</th>\n",
       "      <td>12.0</td>\n",
       "      <td>NaN</td>\n",
       "      <td>12</td>\n",
       "    </tr>\n",
       "    <tr>\n",
       "      <th>2023-04-10</th>\n",
       "      <td>15.0</td>\n",
       "      <td>3.0</td>\n",
       "      <td>18</td>\n",
       "    </tr>\n",
       "    <tr>\n",
       "      <th>2023-04-17</th>\n",
       "      <td>7.0</td>\n",
       "      <td>NaN</td>\n",
       "      <td>7</td>\n",
       "    </tr>\n",
       "    <tr>\n",
       "      <th>2023-04-24</th>\n",
       "      <td>1.0</td>\n",
       "      <td>NaN</td>\n",
       "      <td>1</td>\n",
       "    </tr>\n",
       "    <tr>\n",
       "      <th>All</th>\n",
       "      <td>112.0</td>\n",
       "      <td>6.0</td>\n",
       "      <td>118</td>\n",
       "    </tr>\n",
       "  </tbody>\n",
       "</table>\n",
       "</div>"
      ],
      "text/plain": [
       "loss_ind      0.0  1.0  All\n",
       "order_week                 \n",
       "2023-02-20    1.0  NaN    1\n",
       "2023-02-27   15.0  NaN   15\n",
       "2023-03-06   13.0  2.0   15\n",
       "2023-03-13   24.0  NaN   24\n",
       "2023-03-20   11.0  NaN   11\n",
       "2023-03-27   13.0  1.0   14\n",
       "2023-04-03   12.0  NaN   12\n",
       "2023-04-10   15.0  3.0   18\n",
       "2023-04-17    7.0  NaN    7\n",
       "2023-04-24    1.0  NaN    1\n",
       "All         112.0  6.0  118"
      ]
     },
     "execution_count": 18,
     "metadata": {},
     "output_type": "execute_result"
    }
   ],
   "source": [
    "dataset_df[\n",
    "(    \n",
    "(dataset_df['sp_c_fraud_decline_attempt_d7_0']>0)\n",
    "&(dataset_df['model_online_cb_global_july_2022_score']>4.8)\n",
    "&(dataset_df['bp_c_merch_side_email_age_days']<=5)\n",
    ")\n",
    "]\\\n",
    ".pivot_table(values='in_flight_order_amount',index='order_week', columns='loss_ind', aggfunc='count', margins=True)"
   ]
  },
  {
   "cell_type": "code",
   "execution_count": null,
   "id": "561ef747-dabf-4995-9d05-e86d8aec190a",
   "metadata": {},
   "outputs": [],
   "source": []
  }
 ],
 "metadata": {
  "kernelspec": {
   "display_name": "Python3-Redshift",
   "language": "python",
   "name": "redshift_kernel"
  },
  "language_info": {
   "codemirror_mode": {
    "name": "ipython",
    "version": 3
   },
   "file_extension": ".py",
   "mimetype": "text/x-python",
   "name": "python",
   "nbconvert_exporter": "python",
   "pygments_lexer": "ipython3",
   "version": "3.7.3"
  }
 },
 "nbformat": 4,
 "nbformat_minor": 5
}
