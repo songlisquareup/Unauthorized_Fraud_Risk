{
 "cells": [
  {
   "cell_type": "markdown",
   "id": "a0f75003-14f1-4aaa-a9a6-53e96bd30473",
   "metadata": {},
   "source": [
    "# Decison Tree Model by Tensorflow Decision Forests"
   ]
  },
  {
   "cell_type": "markdown",
   "id": "498965e1-3210-4484-b5cd-dd72bc084139",
   "metadata": {},
   "source": [
    "## 1. Load data into python"
   ]
  },
  {
   "cell_type": "code",
   "execution_count": 5,
   "id": "6e11f4f7-1c48-4f6c-bd81-a8749dc1a2b8",
   "metadata": {},
   "outputs": [],
   "source": [
    "#Vega Setup\n",
    "import logging\n",
    "import pandas as pd\n",
    "import numpy as np\n",
    "from afterpay_gdp_interfaces import RedshiftHook\n",
    "\n",
    "import datetime\n",
    "import pytz\n",
    "CST = pytz.timezone('Asia/Shanghai')\n",
    "\n",
    "pd.set_option('display.max_rows', 500)\n",
    "pd.set_option('display.max_columns', 100)\n",
    "logger = logging.getLogger()\n",
    "logger.setLevel(logging.INFO)\n",
    "vega = RedshiftHook(cluster='vega', okta_username='songli@squareup.com') # for vega connection\n",
    "def vega_execute(query):\n",
    "    import datetime\n",
    "    \"\"\"\n",
    "        vega execute SQL wrapper to commit everytime\n",
    "    \"\"\"\n",
    "    t_start = datetime.datetime.now()\n",
    "    with vega.get_conn() as vega_conn:\n",
    "        with vega_conn.cursor() as cur:\n",
    "            cur.execute(query)\n",
    "        vega_conn.commit()\n",
    "        t_end = datetime.datetime.now()\n",
    "        logging.info(\"Vega Query Finished. Time used: {}\".format(str(t_end - t_start)))\n",
    "        # vega_conn.close()"
   ]
  },
  {
   "cell_type": "markdown",
   "id": "0fdf6ffe-f8e0-4bf0-b238-68bf9b474a94",
   "metadata": {},
   "source": [
    "apply some initial filtering when pulling sample data"
   ]
  },
  {
   "cell_type": "code",
   "execution_count": 6,
   "id": "75baa45b-a35a-402f-8110-75d3f52ba740",
   "metadata": {},
   "outputs": [],
   "source": [
    "q=\"\"\"\n",
    "select\n",
    "*\n",
    "from sandbox_analytics_au.feature_base_sl drv\n",
    "where\n",
    "    par_region='AU'\n",
    "    and lower(replace(in_flight_order_shipping_address_address_1,' ',''))!=lower(replace(consumer_address_1,' ',''))\n",
    "    and lower(replace(in_flight_order_shipping_address_city,' ',''))!=lower(replace(consumer_city,' ',''))\n",
    "    and in_flight_order_shipping_address_address_1!=''\n",
    "    and days_since_first_order_date>42\n",
    "    and ((TIMESTAMP 'epoch' + c_latest_login_2fa_success_timestamp::FLOAT *INTERVAL '1 second')>=cast(checkout_time as date)-30)\n",
    "    and (case when nvl(in_flight_order_amount,'0')='' then '0' else in_flight_order_amount end)::float>200\n",
    ";\"\"\""
   ]
  },
  {
   "cell_type": "code",
   "execution_count": 7,
   "id": "43852499-8fd8-40c4-ae5c-e3c3d68bfb7f",
   "metadata": {},
   "outputs": [
    {
     "name": "stdout",
     "output_type": "stream",
     "text": [
      "2022-12-28 10:13:09.030139+08:00\n",
      "CPU times: user 17.3 s, sys: 4.39 s, total: 21.7 s\n",
      "Wall time: 45.7 s\n"
     ]
    }
   ],
   "source": [
    "%%time\n",
    "print(datetime.datetime.now(CST))\n",
    "rule_perf=vega.get_pandas_df(q)"
   ]
  },
  {
   "cell_type": "code",
   "execution_count": 8,
   "id": "24ef5783-8822-4b3f-92ee-6549aefc418e",
   "metadata": {},
   "outputs": [
    {
     "name": "stderr",
     "output_type": "stream",
     "text": [
      "/opt/tljh/user/lib/python3.7/site-packages/pandas/core/arrays/datetimelike.py:1190: PerformanceWarning: Adding/subtracting object-dtype array to TimedeltaArray not vectorized\n",
      "  PerformanceWarning,\n"
     ]
    }
   ],
   "source": [
    "rule_perf['order_date']=pd.to_datetime(rule_perf['checkout_time']).dt.date\n",
    "import datetime\n",
    "rule_perf['order_week']=rule_perf['order_date']-rule_perf['order_date'].apply(lambda x: datetime.timedelta(pd.to_datetime(x).weekday()))   "
   ]
  },
  {
   "cell_type": "markdown",
   "id": "e82596c9-9b45-4683-9165-3d6a6e0dbde5",
   "metadata": {},
   "source": [
    "### check initial fraud rate by week"
   ]
  },
  {
   "cell_type": "code",
   "execution_count": 9,
   "id": "2d2c3fe7-d5a3-4052-91eb-a449bb686766",
   "metadata": {},
   "outputs": [
    {
     "data": {
      "text/html": [
       "<div>\n",
       "<style scoped>\n",
       "    .dataframe tbody tr th:only-of-type {\n",
       "        vertical-align: middle;\n",
       "    }\n",
       "\n",
       "    .dataframe tbody tr th {\n",
       "        vertical-align: top;\n",
       "    }\n",
       "\n",
       "    .dataframe thead th {\n",
       "        text-align: right;\n",
       "    }\n",
       "</style>\n",
       "<table border=\"1\" class=\"dataframe\">\n",
       "  <thead>\n",
       "    <tr style=\"text-align: right;\">\n",
       "      <th>loss_ind</th>\n",
       "      <th>0.0</th>\n",
       "      <th>1.0</th>\n",
       "    </tr>\n",
       "    <tr>\n",
       "      <th>order_week</th>\n",
       "      <th></th>\n",
       "      <th></th>\n",
       "    </tr>\n",
       "  </thead>\n",
       "  <tbody>\n",
       "    <tr>\n",
       "      <th>2022-10-24</th>\n",
       "      <td>9371.0</td>\n",
       "      <td>9.0</td>\n",
       "    </tr>\n",
       "    <tr>\n",
       "      <th>2022-10-31</th>\n",
       "      <td>25444.0</td>\n",
       "      <td>23.0</td>\n",
       "    </tr>\n",
       "    <tr>\n",
       "      <th>2022-11-07</th>\n",
       "      <td>29454.0</td>\n",
       "      <td>9.0</td>\n",
       "    </tr>\n",
       "    <tr>\n",
       "      <th>2022-11-14</th>\n",
       "      <td>31146.0</td>\n",
       "      <td>26.0</td>\n",
       "    </tr>\n",
       "    <tr>\n",
       "      <th>2022-11-21</th>\n",
       "      <td>57657.0</td>\n",
       "      <td>37.0</td>\n",
       "    </tr>\n",
       "    <tr>\n",
       "      <th>2022-11-28</th>\n",
       "      <td>33077.0</td>\n",
       "      <td>13.0</td>\n",
       "    </tr>\n",
       "    <tr>\n",
       "      <th>2022-12-05</th>\n",
       "      <td>32103.0</td>\n",
       "      <td>12.0</td>\n",
       "    </tr>\n",
       "    <tr>\n",
       "      <th>2022-12-12</th>\n",
       "      <td>33020.0</td>\n",
       "      <td>5.0</td>\n",
       "    </tr>\n",
       "    <tr>\n",
       "      <th>2022-12-19</th>\n",
       "      <td>25828.0</td>\n",
       "      <td>NaN</td>\n",
       "    </tr>\n",
       "    <tr>\n",
       "      <th>2022-12-26</th>\n",
       "      <td>6108.0</td>\n",
       "      <td>1.0</td>\n",
       "    </tr>\n",
       "  </tbody>\n",
       "</table>\n",
       "</div>"
      ],
      "text/plain": [
       "loss_ind        0.0   1.0\n",
       "order_week               \n",
       "2022-10-24   9371.0   9.0\n",
       "2022-10-31  25444.0  23.0\n",
       "2022-11-07  29454.0   9.0\n",
       "2022-11-14  31146.0  26.0\n",
       "2022-11-21  57657.0  37.0\n",
       "2022-11-28  33077.0  13.0\n",
       "2022-12-05  32103.0  12.0\n",
       "2022-12-12  33020.0   5.0\n",
       "2022-12-19  25828.0   NaN\n",
       "2022-12-26   6108.0   1.0"
      ]
     },
     "execution_count": 9,
     "metadata": {},
     "output_type": "execute_result"
    }
   ],
   "source": [
    "rule_perf.pivot_table(values='in_flight_order_amount',index='order_week', columns='loss_ind', aggfunc='count')"
   ]
  },
  {
   "cell_type": "markdown",
   "id": "5b50498f-f989-44db-b5e4-d9829decb527",
   "metadata": {},
   "source": [
    "## 2. Import related packages\n",
    "If you have not installed tensorflow use \n",
    "```shell\n",
    "!pip install --user tensorflow  \n",
    "!pip install --user tensorflow_decision_forests\n",
    "```"
   ]
  },
  {
   "cell_type": "code",
   "execution_count": 10,
   "id": "8e58e99f-051d-40f8-98dc-367bf0d4228d",
   "metadata": {},
   "outputs": [],
   "source": [
    "import tensorflow_decision_forests as tfdf\n",
    "import os\n",
    "import numpy as np\n",
    "import pandas as pd\n",
    "import tensorflow as tf\n",
    "import math"
   ]
  },
  {
   "cell_type": "markdown",
   "id": "ab9c4eb2-1c65-43a1-b860-0c85ec33f493",
   "metadata": {},
   "source": [
    "## 3. Preprocessing\n",
    "Apply some filtering to the sample data.  \n",
    "Apply feature exclusion list as some features should not be used (or you don't want to use) in the model."
   ]
  },
  {
   "cell_type": "code",
   "execution_count": 11,
   "id": "b0fc8dce-8302-4815-853e-0408a6da9da8",
   "metadata": {},
   "outputs": [
    {
     "name": "stdout",
     "output_type": "stream",
     "text": [
      "Label classes: [0.0, 1.0]\n"
     ]
    }
   ],
   "source": [
    "# Apply some filter criteria\n",
    "dataset_df = rule_perf[(pd.to_datetime(rule_perf['order_date'])>='2022-11-24')&(pd.to_datetime(rule_perf['order_date'])<'2022-12-12')\\\n",
    "                       &(rule_perf['rule_ids']=='[\"Approved\"]')\n",
    "                       &~(rule_perf['control_group'].str.lower().str.contains('control'))\n",
    "                      ].copy()\n",
    "# fill missing value\n",
    "dataset_df['loss_ind'].fillna(0,inplace=True)\n",
    "\n",
    "label = \"loss_ind\"\n",
    "\n",
    "classes = dataset_df[label].unique().tolist()\n",
    "print(f\"Label classes: {classes}\")\n",
    "\n",
    "#Exclude some features from being predictors \n",
    "dataset_df2=dataset_df[list(set(dataset_df.columns.to_list())-\n",
    "                           set(['checkout_time','checkout_time_f','ato_ind','sf_id', 'gwr_ind','par_process_date'\n",
    "                                ,'in_flight_order_shipping_address_hash','rule_ids','consumer_city'\n",
    "                                ,'gmv_local','gmv_aud','order_week', 'sf_ind','consumer_given_names'\n",
    "                                ,'c_latest_email_login_2fa_success_timestamp','session_user_agent'\n",
    "                                ,'merchant_id', 'merchant_id_f','consumer_id','consumer_email','order_date', 'order_week','consumer_id_f', 'in_flight_order_consumer_email', 'consumer_mobile'\n",
    "                                ,'in_flight_order_consumer_name','consumer_name','consumer_postcode','consumer_birth_date_epoch_millis','highest_delphi_score_last_12_hours'\n",
    "                               ]+dataset_df.columns[dataset_df.columns.str.contains('time')].to_list()\n",
    "                               +dataset_df.columns[(dataset_df.columns.str.contains('_address'))&~(dataset_df.columns.str.contains('geo'))].to_list()\n",
    "                              ))].copy()\n",
    "#Format conversion\n",
    "dataset_df2[dataset_df2.dtypes[dataset_df2.dtypes=='bool'].index]=\\\n",
    "    dataset_df2[dataset_df2.dtypes[dataset_df2.dtypes=='bool'].index].astype(str)"
   ]
  },
  {
   "cell_type": "markdown",
   "id": "4d9999f0-6e63-48ee-9a14-02a9d4b99acd",
   "metadata": {},
   "source": [
    "## 4. Train Test split\n",
    "Test ratio controls the test sample size."
   ]
  },
  {
   "cell_type": "code",
   "execution_count": 12,
   "id": "75bbff07-db5b-4e7e-bd9e-4ce182bd6031",
   "metadata": {},
   "outputs": [
    {
     "name": "stdout",
     "output_type": "stream",
     "text": [
      "98057 examples in training, 10922 examples for testing.\n"
     ]
    },
    {
     "name": "stderr",
     "output_type": "stream",
     "text": [
      "/home/jupyter-songli/.local/lib/python3.7/site-packages/tensorflow_decision_forests/keras/core.py:2036: FutureWarning: In a future version of pandas all arguments of DataFrame.drop except for the argument 'labels' will be keyword-only\n",
      "  features_dataframe = dataframe.drop(label, 1)\n"
     ]
    }
   ],
   "source": [
    "def split_dataset(dataset, test_ratio=0.1):\n",
    "    \"\"\"Splits a panda dataframe in two.\"\"\"\n",
    "    test_indices = np.random.rand(len(dataset)) < test_ratio\n",
    "    return dataset[~test_indices], dataset[test_indices]\n",
    "\n",
    "train_ds_pd, test_ds_pd = split_dataset(dataset_df2)\n",
    "print(\"{} examples in training, {} examples for testing.\".format(\n",
    "    len(train_ds_pd), len(test_ds_pd)))\n",
    "\n",
    "train_ds = tfdf.keras.pd_dataframe_to_tf_dataset(train_ds_pd, label=label)\n",
    "test_ds = tfdf.keras.pd_dataframe_to_tf_dataset(test_ds_pd, label=label)"
   ]
  },
  {
   "cell_type": "markdown",
   "id": "de9074e7-4fe1-4807-b618-17cb0ebf19b4",
   "metadata": {},
   "source": [
    "## 5. Build Model\n",
    "Some key parameters: \n",
    "- min_examples: controls the minumum size of the node. You need to balance between overfitting and fraud rate. \n",
    "- max_depth: depth of the tree"
   ]
  },
  {
   "cell_type": "code",
   "execution_count": null,
   "id": "8e8ee583-899b-42da-9308-3eb8f12ec9ee",
   "metadata": {},
   "outputs": [],
   "source": [
    "%%time\n",
    "# build model\n",
    "model = tfdf.keras.RandomForestModel(min_examples=30,max_depth=5,sampling_with_replacement=False,bootstrap_size_ratio=1.0,num_trees=1)\n",
    "\n",
    "# train model\n",
    "model.fit(x=train_ds, validation_data=test_ds)\n",
    "\n",
    "# evaluate model\n",
    "# model.compile(metrics=[\"accuracy\"])\n",
    "# evaluation = model.evaluate(test_ds, return_dict=True)\n",
    "# print()\n",
    "\n",
    "# for name, value in evaluation.items():\n",
    "#   print(f\"{name}: {value:.4f}\")"
   ]
  },
  {
   "cell_type": "markdown",
   "id": "e311d7ba-442b-47d2-8c38-3c174455a12e",
   "metadata": {},
   "source": [
    "## 6. Visualize the tree "
   ]
  },
  {
   "cell_type": "code",
   "execution_count": 30,
   "id": "9dde91a7-5704-4e41-bf54-6f48a245c86b",
   "metadata": {
    "tags": []
   },
   "outputs": [
    {
     "data": {
      "text/html": [
       "\n",
       "        <iframe\n",
       "            width=\"2000\"\n",
       "            height=\"600\"\n",
       "            src=\"https://rawcdn.githack.com/songlisquareup/Unauthorized_Fraud_Risk/25f9261f92fc2fedf4ec94d18db798b297f0a850/SurgicalAutomation/plot.html\"\n",
       "            frameborder=\"0\"\n",
       "            allowfullscreen\n",
       "            \n",
       "        ></iframe>\n",
       "        "
      ],
      "text/plain": [
       "<IPython.lib.display.IFrame at 0x7f73b24d04e0>"
      ]
     },
     "execution_count": 31,
     "metadata": {},
     "output_type": "execute_result"
    }
   ],
   "source": [
    "with open(\"plot.html\", \"w\") as f:\n",
    "    f.write(tfdf.model_plotter.plot_model(model, tree_idx=0, max_depth=8))\n",
    "\n",
    "from IPython.display import IFrame\n",
    "IFrame(src='./plot.html', width=2000, height=600)"
   ]
  },
  {
   "cell_type": "markdown",
   "id": "ae4e51b9-f488-4aa1-b717-c064973b7e37",
   "metadata": {},
   "source": [
    "### Selected desired(and reasonable) nodes and check performance!"
   ]
  },
  {
   "cell_type": "code",
   "execution_count": 16,
   "id": "55a71f77-1479-452f-9278-704e7145e2ff",
   "metadata": {},
   "outputs": [
    {
     "data": {
      "text/html": [
       "<div>\n",
       "<style scoped>\n",
       "    .dataframe tbody tr th:only-of-type {\n",
       "        vertical-align: middle;\n",
       "    }\n",
       "\n",
       "    .dataframe tbody tr th {\n",
       "        vertical-align: top;\n",
       "    }\n",
       "\n",
       "    .dataframe thead th {\n",
       "        text-align: right;\n",
       "    }\n",
       "</style>\n",
       "<table border=\"1\" class=\"dataframe\">\n",
       "  <thead>\n",
       "    <tr style=\"text-align: right;\">\n",
       "      <th>loss_ind</th>\n",
       "      <th>0.0</th>\n",
       "      <th>1.0</th>\n",
       "      <th>All</th>\n",
       "    </tr>\n",
       "    <tr>\n",
       "      <th>order_week</th>\n",
       "      <th></th>\n",
       "      <th></th>\n",
       "      <th></th>\n",
       "    </tr>\n",
       "  </thead>\n",
       "  <tbody>\n",
       "    <tr>\n",
       "      <th>2022-11-21</th>\n",
       "      <td>18</td>\n",
       "      <td>9</td>\n",
       "      <td>27</td>\n",
       "    </tr>\n",
       "    <tr>\n",
       "      <th>2022-11-28</th>\n",
       "      <td>20</td>\n",
       "      <td>3</td>\n",
       "      <td>23</td>\n",
       "    </tr>\n",
       "    <tr>\n",
       "      <th>2022-12-05</th>\n",
       "      <td>14</td>\n",
       "      <td>5</td>\n",
       "      <td>19</td>\n",
       "    </tr>\n",
       "    <tr>\n",
       "      <th>All</th>\n",
       "      <td>52</td>\n",
       "      <td>17</td>\n",
       "      <td>69</td>\n",
       "    </tr>\n",
       "  </tbody>\n",
       "</table>\n",
       "</div>"
      ],
      "text/plain": [
       "loss_ind    0.0  1.0  All\n",
       "order_week               \n",
       "2022-11-21   18    9   27\n",
       "2022-11-28   20    3   23\n",
       "2022-12-05   14    5   19\n",
       "All          52   17   69"
      ]
     },
     "execution_count": 16,
     "metadata": {},
     "output_type": "execute_result"
    }
   ],
   "source": [
    "dataset_df[\n",
    "(    \n",
    "(dataset_df['sp_c_fraud_decline_attempt_d7_0']>0)\n",
    "&(dataset_df['model_online_cb_global_july_2022_score']>4.8)\n",
    "&(dataset_df['bp_c_merch_side_email_age_days']<=5)\n",
    ")\n",
    "]\\\n",
    ".pivot_table(values='in_flight_order_amount',index='order_week', columns='loss_ind', aggfunc='count', margins=True)"
   ]
  },
  {
   "cell_type": "code",
   "execution_count": null,
   "id": "744090cf-8672-469a-a56a-8ba2d993e5a6",
   "metadata": {},
   "outputs": [],
   "source": []
  }
 ],
 "metadata": {
  "kernelspec": {
   "display_name": "Python3-Redshift",
   "language": "python",
   "name": "redshift_kernel"
  },
  "language_info": {
   "codemirror_mode": {
    "name": "ipython",
    "version": 3
   },
   "file_extension": ".py",
   "mimetype": "text/x-python",
   "name": "python",
   "nbconvert_exporter": "python",
   "pygments_lexer": "ipython3",
   "version": "3.7.3"
  }
 },
 "nbformat": 4,
 "nbformat_minor": 5
}
