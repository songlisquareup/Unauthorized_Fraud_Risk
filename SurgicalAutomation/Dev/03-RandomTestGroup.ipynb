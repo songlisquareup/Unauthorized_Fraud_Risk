{
 "cells": [
  {
   "cell_type": "code",
   "execution_count": 10,
   "id": "9731ac03-0439-49d8-b0a5-beb1c67c70a7",
   "metadata": {},
   "outputs": [],
   "source": [
    "import pandas as pd\n",
    "import numpy as np\n",
    "import random\n",
    "total_array = random.sample(range(100), 100)\n",
    "N = 3"
   ]
  },
  {
   "cell_type": "code",
   "execution_count": 11,
   "id": "faae9c3d-7968-4950-83e1-a9237fbb91de",
   "metadata": {},
   "outputs": [],
   "source": [
    "group_key=[[hex(x).replace(\"0x\",\"\").zfill(2) for x in y] for y in np.array_split(total_array, N)]"
   ]
  },
  {
   "cell_type": "code",
   "execution_count": 13,
   "id": "94eedb4e-a48e-4f05-abc1-4e974ef9b5d9",
   "metadata": {},
   "outputs": [
    {
     "data": {
      "text/plain": [
       "[['61',\n",
       "  '60',\n",
       "  '57',\n",
       "  '22',\n",
       "  '14',\n",
       "  '3e',\n",
       "  '23',\n",
       "  '50',\n",
       "  '5b',\n",
       "  '12',\n",
       "  '47',\n",
       "  '07',\n",
       "  '5e',\n",
       "  '21',\n",
       "  '58',\n",
       "  '31',\n",
       "  '2f',\n",
       "  '4c',\n",
       "  '32',\n",
       "  '63',\n",
       "  '56',\n",
       "  '1b',\n",
       "  '1d',\n",
       "  '01',\n",
       "  '42',\n",
       "  '24',\n",
       "  '1e',\n",
       "  '55',\n",
       "  '3b',\n",
       "  '25',\n",
       "  '5f',\n",
       "  '27',\n",
       "  '2e',\n",
       "  '46'],\n",
       " ['09',\n",
       "  '0d',\n",
       "  '0c',\n",
       "  '3a',\n",
       "  '44',\n",
       "  '05',\n",
       "  '37',\n",
       "  '59',\n",
       "  '28',\n",
       "  '41',\n",
       "  '1c',\n",
       "  '40',\n",
       "  '38',\n",
       "  '29',\n",
       "  '13',\n",
       "  '62',\n",
       "  '33',\n",
       "  '5d',\n",
       "  '15',\n",
       "  '5a',\n",
       "  '5c',\n",
       "  '26',\n",
       "  '4e',\n",
       "  '54',\n",
       "  '51',\n",
       "  '03',\n",
       "  '18',\n",
       "  '1f',\n",
       "  '4b',\n",
       "  '34',\n",
       "  '06',\n",
       "  '4f',\n",
       "  '20'],\n",
       " ['45',\n",
       "  '2d',\n",
       "  '0b',\n",
       "  '3c',\n",
       "  '43',\n",
       "  '2c',\n",
       "  '39',\n",
       "  '36',\n",
       "  '0e',\n",
       "  '02',\n",
       "  '52',\n",
       "  '16',\n",
       "  '3d',\n",
       "  '1a',\n",
       "  '49',\n",
       "  '08',\n",
       "  '30',\n",
       "  '4a',\n",
       "  '0a',\n",
       "  '53',\n",
       "  '0f',\n",
       "  '3f',\n",
       "  '00',\n",
       "  '2b',\n",
       "  '19',\n",
       "  '48',\n",
       "  '2a',\n",
       "  '35',\n",
       "  '11',\n",
       "  '4d',\n",
       "  '17',\n",
       "  '10',\n",
       "  '04']]"
      ]
     },
     "execution_count": 13,
     "metadata": {},
     "output_type": "execute_result"
    }
   ],
   "source": [
    "group_key"
   ]
  },
  {
   "cell_type": "code",
   "execution_count": null,
   "id": "09b5030c-6ca5-4afd-ad91-b1ca909cb919",
   "metadata": {},
   "outputs": [],
   "source": []
  }
 ],
 "metadata": {
  "kernelspec": {
   "display_name": "Python3-Redshift",
   "language": "python",
   "name": "redshift_kernel"
  },
  "language_info": {
   "codemirror_mode": {
    "name": "ipython",
    "version": 3
   },
   "file_extension": ".py",
   "mimetype": "text/x-python",
   "name": "python",
   "nbconvert_exporter": "python",
   "pygments_lexer": "ipython3",
   "version": "3.7.3"
  }
 },
 "nbformat": 4,
 "nbformat_minor": 5
}
